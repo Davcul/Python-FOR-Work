{
 "cells": [
  {
   "cell_type": "code",
   "execution_count": 1,
   "id": "c39f4fd6",
   "metadata": {},
   "outputs": [
    {
     "name": "stdout",
     "output_type": "stream",
     "text": [
      "Глава 2. Предобработка исследовательских данных\n"
     ]
    }
   ],
   "source": [
    "print('Глава 2. Предобработка исследовательских данных')"
   ]
  },
  {
   "cell_type": "code",
   "execution_count": 2,
   "id": "1a136a6b",
   "metadata": {},
   "outputs": [
    {
     "name": "stdout",
     "output_type": "stream",
     "text": [
      "1. Работа с библиотекой numpy\n"
     ]
    }
   ],
   "source": [
    "print('1. Работа с библиотекой numpy')"
   ]
  },
  {
   "cell_type": "code",
   "execution_count": 13,
   "id": "4b9fffc0",
   "metadata": {},
   "outputs": [
    {
     "name": "stdout",
     "output_type": "stream",
     "text": [
      "1.1\n"
     ]
    }
   ],
   "source": [
    "print('1.1')"
   ]
  },
  {
   "cell_type": "code",
   "execution_count": 14,
   "id": "6857405b",
   "metadata": {},
   "outputs": [],
   "source": [
    "import numpy as np\n",
    "\n",
    "a=np.array([[2.3, 5.1, 4.7],\n",
    "            [3.5, 6.7, 1.5],\n",
    "            [8.4, 3.1, 9.2]])\n",
    "\n",
    "b=np.array([[4.3, 8.1, 0.1],\n",
    "            [3.7, 6.2, 1.5],\n",
    "            [2.4, 5.7, 4.7]])"
   ]
  },
  {
   "cell_type": "code",
   "execution_count": 15,
   "id": "e1519ab9",
   "metadata": {},
   "outputs": [],
   "source": [
    "string,column=a.shape\n",
    "string_1,column_1=b.shape"
   ]
  },
  {
   "cell_type": "code",
   "execution_count": 16,
   "id": "00dc6ffc",
   "metadata": {},
   "outputs": [
    {
     "name": "stdout",
     "output_type": "stream",
     "text": [
      "а содержит 3 строк и 3 столбцов.\n",
      "b содержит 3 строк и 3 столбцов.\n",
      "\n"
     ]
    }
   ],
   "source": [
    "print(\"а содержит\", string, \"строк и\", column, \"столбцов.\")\n",
    "print(\"b содержит\", string_1, \"строк и\", column_1, \"столбцов.\", end=\"\\n\"*2)"
   ]
  },
  {
   "cell_type": "code",
   "execution_count": 17,
   "id": "fbc916e9",
   "metadata": {},
   "outputs": [
    {
     "name": "stdout",
     "output_type": "stream",
     "text": [
      "[[ 6.6 13.2  4.8]\n",
      " [ 7.2 12.9  3. ]\n",
      " [10.8  8.8 13.9]]\n",
      "\n",
      "[[-2.  -3.   4.6]\n",
      " [-0.2  0.5  0. ]\n",
      " [ 6.  -2.6  4.5]]\n",
      "\n",
      "[[ 9.89 41.31  0.47]\n",
      " [12.95 41.54  2.25]\n",
      " [20.16 17.67 43.24]]\n",
      "\n",
      "[[ 0.53488372  0.62962963 47.        ]\n",
      " [ 0.94594595  1.08064516  1.        ]\n",
      " [ 3.5         0.54385965  1.95744681]]\n",
      "\n"
     ]
    }
   ],
   "source": [
    "print(a+b, end=\"\\n\"*2)\n",
    "print(a-b, end=\"\\n\"*2)\n",
    "print(a*b, end=\"\\n\"*2)\n",
    "print(a/b, end=\"\\n\"*2)"
   ]
  },
  {
   "cell_type": "code",
   "execution_count": 18,
   "id": "72136374",
   "metadata": {},
   "outputs": [
    {
     "name": "stdout",
     "output_type": "stream",
     "text": [
      "[[ 5.29 26.01 22.09]\n",
      " [12.25 44.89  2.25]\n",
      " [70.56  9.61 84.64]]\n",
      "\n",
      "[[2.15 4.05 0.05]\n",
      " [1.85 3.1  0.75]\n",
      " [1.2  2.85 2.35]]\n",
      "\n"
     ]
    }
   ],
   "source": [
    "print(pow(a,2),end=\"\\n\"*2)\n",
    "print(b/2,end=\"\\n\"*2)"
   ]
  },
  {
   "cell_type": "code",
   "execution_count": 19,
   "id": "bdce8f51",
   "metadata": {},
   "outputs": [],
   "source": [
    "cos_a=np.cos(a)\n",
    "sin_b=np.sin(b)"
   ]
  },
  {
   "cell_type": "code",
   "execution_count": 20,
   "id": "386e8ea7",
   "metadata": {},
   "outputs": [
    {
     "name": "stdout",
     "output_type": "stream",
     "text": [
      "cos a: [[-0.66627602  0.37797774 -0.01238866]\n",
      " [-0.93645669  0.91438315  0.0707372 ]\n",
      " [-0.51928865 -0.99913515 -0.97484362]]\n",
      "\n",
      "sin b: [[-0.91616594  0.96988981  0.09983342]\n",
      " [-0.52983614 -0.0830894   0.99749499]\n",
      " [ 0.67546318 -0.55068554 -0.99992326]]\n",
      "\n",
      "cos a + sin b:\n",
      "[[-1.58244196  1.34786755  0.08744475]\n",
      " [-1.46629283  0.83129375  1.06823219]\n",
      " [ 0.15617453 -1.54982069 -1.97476688]]\n"
     ]
    }
   ],
   "source": [
    "print(\"cos a:\", cos_a,end=\"\\n\"*2)\n",
    "print(\"sin b:\", sin_b,end=\"\\n\"*2)\n",
    "print(\"cos a + sin b:\")\n",
    "print(cos_a+sin_b)"
   ]
  },
  {
   "cell_type": "code",
   "execution_count": 21,
   "id": "efb823d1",
   "metadata": {},
   "outputs": [
    {
     "name": "stdout",
     "output_type": "stream",
     "text": [
      "1.2\n"
     ]
    }
   ],
   "source": [
    "print('1.2')"
   ]
  },
  {
   "cell_type": "code",
   "execution_count": 23,
   "id": "812bf6f2",
   "metadata": {},
   "outputs": [],
   "source": [
    "aq = np.array([1.2, 2.4, 3.0, 3.5, 6.7, 1.5, 8.4, 3.1, 9.2])"
   ]
  },
  {
   "cell_type": "code",
   "execution_count": 24,
   "id": "b33e7ec7",
   "metadata": {},
   "outputs": [
    {
     "name": "stdout",
     "output_type": "stream",
     "text": [
      "(3, 3)\n",
      "\n"
     ]
    }
   ],
   "source": [
    "print(a.shape,end=\"\\n\"*2)"
   ]
  },
  {
   "cell_type": "code",
   "execution_count": 25,
   "id": "f65da405",
   "metadata": {},
   "outputs": [
    {
     "name": "stdout",
     "output_type": "stream",
     "text": [
      "[[2.3]\n",
      " [5.1]\n",
      " [4.7]\n",
      " [3.5]\n",
      " [6.7]\n",
      " [1.5]\n",
      " [8.4]\n",
      " [3.1]\n",
      " [9.2]]\n",
      "\n"
     ]
    }
   ],
   "source": [
    "arr_1=a.reshape((9, 1))\n",
    "print(arr_1,end=\"\\n\"*2)"
   ]
  },
  {
   "cell_type": "code",
   "execution_count": 26,
   "id": "62508dd0",
   "metadata": {},
   "outputs": [
    {
     "name": "stdout",
     "output_type": "stream",
     "text": [
      "[[2.3 5.1 4.7]\n",
      " [3.5 6.7 1.5]\n",
      " [8.4 3.1 9.2]]\n",
      "\n"
     ]
    }
   ],
   "source": [
    "arr_2=a.reshape((3, 3))\n",
    "print(arr_2,end=\"\\n\"*2)"
   ]
  },
  {
   "cell_type": "code",
   "execution_count": 27,
   "id": "69369afa",
   "metadata": {},
   "outputs": [
    {
     "name": "stdout",
     "output_type": "stream",
     "text": [
      "[8.4 6.7 9.2]\n",
      "\n",
      "[5.1 6.7 9.2]\n",
      "\n"
     ]
    }
   ],
   "source": [
    "print(arr_2.max(axis=0),end=\"\\n\"*2)\n",
    "print(arr_2.max(axis=1),end=\"\\n\"*2)"
   ]
  },
  {
   "cell_type": "code",
   "execution_count": 29,
   "id": "00fe7814",
   "metadata": {},
   "outputs": [
    {
     "name": "stdout",
     "output_type": "stream",
     "text": [
      "[2.3 3.1 1.5]\n",
      "\n",
      "[2.3 1.5 3.1]\n",
      "\n"
     ]
    }
   ],
   "source": [
    "print(arr_2.min(axis=0),end=\"\\n\"*2)\n",
    "print(arr_2.min(axis=1),end=\"\\n\"*2)"
   ]
  },
  {
   "cell_type": "code",
   "execution_count": 30,
   "id": "e85303e1",
   "metadata": {},
   "outputs": [
    {
     "name": "stdout",
     "output_type": "stream",
     "text": [
      "[14.2 14.9 15.4]\n",
      "\n",
      "[12.1 11.7 20.7]\n",
      "\n"
     ]
    }
   ],
   "source": [
    "print(arr_2.sum(axis=0),end=\"\\n\"*2)\n",
    "print(arr_2.sum(axis=1),end=\"\\n\"*2)"
   ]
  },
  {
   "cell_type": "code",
   "execution_count": 31,
   "id": "acaf26db",
   "metadata": {},
   "outputs": [
    {
     "name": "stdout",
     "output_type": "stream",
     "text": [
      "1.3\n"
     ]
    }
   ],
   "source": [
    "print('1.3')"
   ]
  },
  {
   "cell_type": "code",
   "execution_count": 32,
   "id": "0be42876",
   "metadata": {},
   "outputs": [],
   "source": [
    "a = np.array([[4, 2], [9, 1]])\n",
    "b = np.array([[5, 3], [2, 5]])"
   ]
  },
  {
   "cell_type": "code",
   "execution_count": 35,
   "id": "1f47f8b9",
   "metadata": {},
   "outputs": [
    {
     "name": "stdout",
     "output_type": "stream",
     "text": [
      "[[4 2]\n",
      " [9 1]\n",
      " [5 3]\n",
      " [2 5]]\n",
      "\n"
     ]
    }
   ],
   "source": [
    "new_array_1 = np.vstack((a, b))\n",
    "print(new_array_1, end=\"\\n\"*2)"
   ]
  },
  {
   "cell_type": "code",
   "execution_count": 36,
   "id": "295233aa",
   "metadata": {},
   "outputs": [
    {
     "name": "stdout",
     "output_type": "stream",
     "text": [
      "[4 9 5]\n",
      "\n"
     ]
    }
   ],
   "source": [
    "array_2 = new_array_1[:,0][0:3]\n",
    "print(array_2, end=\"\\n\"*2)"
   ]
  },
  {
   "cell_type": "code",
   "execution_count": 37,
   "id": "d735c974",
   "metadata": {},
   "outputs": [
    {
     "name": "stdout",
     "output_type": "stream",
     "text": [
      "18\n",
      "4\n",
      "9\n"
     ]
    }
   ],
   "source": [
    "print(array_2.sum())\n",
    "print(array_2.min())\n",
    "print(array_2.max())"
   ]
  },
  {
   "cell_type": "code",
   "execution_count": 38,
   "id": "21be9016",
   "metadata": {},
   "outputs": [
    {
     "name": "stdout",
     "output_type": "stream",
     "text": [
      "[[4 2 5 3]\n",
      " [9 1 2 5]]\n"
     ]
    }
   ],
   "source": [
    "new_array_2 = np.hstack((a, b))\n",
    "print(new_array_2)"
   ]
  },
  {
   "cell_type": "code",
   "execution_count": 39,
   "id": "82441685",
   "metadata": {},
   "outputs": [
    {
     "name": "stdout",
     "output_type": "stream",
     "text": [
      "[4 2 5]\n"
     ]
    }
   ],
   "source": [
    "print(new_array_2[0,:][0:3])"
   ]
  },
  {
   "cell_type": "code",
   "execution_count": 40,
   "id": "c9b03aa8",
   "metadata": {},
   "outputs": [
    {
     "name": "stdout",
     "output_type": "stream",
     "text": [
      "11\n",
      "5\n",
      "2\n"
     ]
    }
   ],
   "source": [
    "print(sum(new_array_2[0,:][0:3]))\n",
    "print(max(new_array_2[0,:][0:3]))\n",
    "print(min(new_array_2[0,:][0:3]))"
   ]
  },
  {
   "cell_type": "code",
   "execution_count": 41,
   "id": "cb1fe376",
   "metadata": {},
   "outputs": [
    {
     "name": "stdout",
     "output_type": "stream",
     "text": [
      "1.4\n"
     ]
    }
   ],
   "source": [
    "print('1.4')"
   ]
  },
  {
   "cell_type": "code",
   "execution_count": 46,
   "id": "3253019c",
   "metadata": {},
   "outputs": [
    {
     "name": "stdout",
     "output_type": "stream",
     "text": [
      "[2. 1.]\n"
     ]
    }
   ],
   "source": [
    "from numpy import linalg as lg\n",
    "\n",
    "a = np.array([[5, 4],[2, -6]])\n",
    "b = np.array([14, -2])\n",
    "decide =lg.solve(a,b)     #linalg.solve(a, b) - решает систему линейных уравнений Ax = b.\n",
    "print(decide)"
   ]
  },
  {
   "cell_type": "code",
   "execution_count": 47,
   "id": "1ce97944",
   "metadata": {},
   "outputs": [
    {
     "name": "stdout",
     "output_type": "stream",
     "text": [
      "1.5\n"
     ]
    }
   ],
   "source": [
    "print('1.5')"
   ]
  },
  {
   "cell_type": "code",
   "execution_count": 48,
   "id": "6376827e",
   "metadata": {},
   "outputs": [],
   "source": [
    "a = np.array([[2, 8],\n",
    "              [1, -6]])\n",
    "\n",
    "b = np.array([[3, 2, 7],\n",
    "             [4, 1, 8],\n",
    "             [6, 3, 7]])\n",
    "\n",
    "c = np.array([[4, 3, 2, 7],\n",
    "             [6, 1, 1, -2],\n",
    "             [7, 5, 8, 1],\n",
    "             [9, 5, -3, -5]])"
   ]
  },
  {
   "cell_type": "code",
   "execution_count": 49,
   "id": "a0bf8ec9",
   "metadata": {},
   "outputs": [
    {
     "name": "stdout",
     "output_type": "stream",
     "text": [
      "[[ 2  1]\n",
      " [ 8 -6]]\n",
      "\n",
      "[[3 4 6]\n",
      " [2 1 3]\n",
      " [7 8 7]]\n",
      "\n",
      "[[ 4  6  7  9]\n",
      " [ 3  1  5  5]\n",
      " [ 2  1  8 -3]\n",
      " [ 7 -2  1 -5]]\n",
      "\n"
     ]
    }
   ],
   "source": [
    "print(a.transpose(),end=\"\\n\"*2)\n",
    "print(b.transpose(),end=\"\\n\"*2)\n",
    "print(c.transpose(),end=\"\\n\"*2)"
   ]
  },
  {
   "cell_type": "code",
   "execution_count": 50,
   "id": "d041ec6a",
   "metadata": {},
   "outputs": [
    {
     "name": "stdout",
     "output_type": "stream",
     "text": [
      "[[ 0.3   0.4 ]\n",
      " [ 0.05 -0.1 ]]\n",
      "\n",
      "[[-0.5483871   0.22580645  0.29032258]\n",
      " [ 0.64516129 -0.67741935  0.12903226]\n",
      " [ 0.19354839  0.09677419 -0.16129032]]\n",
      "\n",
      "[[ 0.05464191  0.23129973 -0.05251989 -0.0265252 ]\n",
      " [-0.00424403 -0.37718833  0.11087533  0.16710875]\n",
      " [-0.06153846  0.03076923  0.10769231 -0.07692308]\n",
      " [ 0.13103448  0.02068966 -0.04827586 -0.03448276]]\n",
      "\n"
     ]
    }
   ],
   "source": [
    "print(lg.inv(a),end=\"\\n\"*2)   #linalg.inv(a) - обратная матрица.\n",
    "print(lg.inv(b),end=\"\\n\"*2)   #linalg.inv(a) - обратная матрица.\n",
    "print(lg.inv(c),end=\"\\n\"*2)   #linalg.inv(a) - обратная матрица."
   ]
  },
  {
   "cell_type": "code",
   "execution_count": 59,
   "id": "cbafe8e3",
   "metadata": {},
   "outputs": [
    {
     "name": "stdout",
     "output_type": "stream",
     "text": [
      "Определитель для а= -20\n",
      "\n",
      "Определитель для b= 31\n",
      "\n",
      "Определитель для c= 1885\n",
      "\n"
     ]
    }
   ],
   "source": [
    "print('Определитель для а=', round(lg.det(a)),end=\"\\n\"*2)  #linalg.det(a) - определитель.\n",
    "print('Определитель для b=', round(lg.det(b)),end=\"\\n\"*2)  #linalg.det(a) - определитель.\n",
    "print('Определитель для c=', round(lg.det(c)), end=\"\\n\"*2)  #linalg.det(a) - определитель."
   ]
  },
  {
   "cell_type": "code",
   "execution_count": 61,
   "id": "f4ea5cce",
   "metadata": {
    "scrolled": true
   },
   "outputs": [
    {
     "name": "stdout",
     "output_type": "stream",
     "text": [
      "норма вектора для axis0 = 15\n",
      "\n"
     ]
    }
   ],
   "source": [
    "axis0 = np.split(b, 3, axis=0) #split сканирует всю строку и разделяет ее в случае нахождения разделителя.\n",
    "print('норма вектора для axis0 =', round(lg.norm(axis0)),end=\"\\n\"*2)  #linalg.norm(x[, ord, axis]) - норма вектора или оператора."
   ]
  },
  {
   "cell_type": "code",
   "execution_count": 60,
   "id": "d22f80d0",
   "metadata": {
    "scrolled": true
   },
   "outputs": [
    {
     "name": "stdout",
     "output_type": "stream",
     "text": [
      "норма вектора для axis1 = 20\n",
      "\n"
     ]
    }
   ],
   "source": [
    "axis1 = np.split(c, 4, axis=1)\n",
    "print('норма вектора для axis1 =', round(lg.norm(axis1)),end=\"\\n\"*2)"
   ]
  },
  {
   "cell_type": "code",
   "execution_count": 62,
   "id": "b27d4877",
   "metadata": {},
   "outputs": [
    {
     "name": "stdout",
     "output_type": "stream",
     "text": [
      "[ 72  66  53  17  63  17  22  65  64  49   3   7  74   8   7  64  83  93\n",
      "  64   0  13  24  63   5  55  35   7  13  17  68  59  91  30  70  47  59\n",
      " 100  28   2  86  77  51   3   8  67   1   0  86  80  25  63  78  77  47\n",
      "  80  81  89  88  91   9  91  41   8  54  66  41  76  20   7  94  69  59\n",
      "  52  83 100 100  70  10  37   2   2  81  94  69   8  72  69   6  90  76\n",
      "  29  78  72  15  28  60  60  33  53  50]\n",
      "57\n",
      "57\n"
     ]
    }
   ],
   "source": [
    "import random\n",
    "\n",
    "a = np.array([random.randint(0, 100) for i in range(0, 100, 1)])\n",
    "print(a)\n",
    "\n",
    "count = 0\n",
    "for i in a:\n",
    "     if i>50:\n",
    "        count+=1\n",
    "print (count)\n",
    "\n",
    "count_new = 0\n",
    "count_new = sum(map(lambda item: item > 50, a))\n",
    "print(count_new)"
   ]
  }
 ],
 "metadata": {
  "kernelspec": {
   "display_name": "Python 3 (ipykernel)",
   "language": "python",
   "name": "python3"
  },
  "language_info": {
   "codemirror_mode": {
    "name": "ipython",
    "version": 3
   },
   "file_extension": ".py",
   "mimetype": "text/x-python",
   "name": "python",
   "nbconvert_exporter": "python",
   "pygments_lexer": "ipython3",
   "version": "3.9.13"
  }
 },
 "nbformat": 4,
 "nbformat_minor": 5
}
