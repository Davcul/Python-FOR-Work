{
 "cells": [
  {
   "cell_type": "code",
   "execution_count": 5,
   "id": "9d0d5316",
   "metadata": {},
   "outputs": [
    {
     "name": "stdout",
     "output_type": "stream",
     "text": [
      "4. Дата фреймы Pandas\n",
      " 4.1\n",
      "\n",
      "<class 'pandas.core.frame.DataFrame'>\n",
      "RangeIndex: 128 entries, 0 to 127\n",
      "Data columns (total 5 columns):\n",
      " #   Column   Non-Null Count  Dtype \n",
      "---  ------   --------------  ----- \n",
      " 0   GOLDA    124 non-null    object\n",
      " 1   Silver   121 non-null    object\n",
      " 2   platinu  124 non-null    object\n",
      " 3   Palla    120 non-null    object\n",
      " 4   Date     128 non-null    object\n",
      "dtypes: object(5)\n",
      "memory usage: 5.1+ KB\n",
      "None\n"
     ]
    }
   ],
   "source": [
    "print('4. Дата фреймы Pandas')\n",
    "print(' 4.1', end=\"\\n\"*2)\n",
    "import pandas as pd\n",
    "\n",
    "df = pd.read_csv('https://elteha.ru/data_science/precious_metal.csv', sep = ';')\n",
    "print(df.info())"
   ]
  },
  {
   "cell_type": "code",
   "execution_count": 14,
   "id": "fec4b6db",
   "metadata": {},
   "outputs": [
    {
     "name": "stdout",
     "output_type": "stream",
     "text": [
      " 4.2\n",
      "\n",
      "        gold silver platinum palladium             date\n",
      "0     4784,4   58,7  2183,31   5677,62  31.10.2020 0:00\n",
      "1    4759,17  60,67  2195,94   5662,27  30.10.2020 0:00\n",
      "2    4729,52  60,93  2179,19   5812,01  29.10.2020 0:00\n",
      "3    4667,69  59,68  2145,92   5813,41  28.10.2020 0:00\n",
      "4    4673,64  60,85  2189,85       NaN  27.10.2020 0:00\n",
      "..       ...    ...      ...       ...              ...\n",
      "123  4047,21    NaN  1800,29   4298,85  09.05.2020 0:00\n",
      "124   4023,9   35,7  1794,33   4324,99  08.05.2020 0:00\n",
      "125  4040,41  35,85  1795,58   4221,39  07.05.2020 0:00\n",
      "126  4014,11  35,86  1819,12   4655,36  01.05.2020 0:00\n",
      "127   4041,8  35,93  1847,95   4638,83  30.04.2020 0:00\n",
      "\n",
      "[128 rows x 5 columns]\n",
      "\n"
     ]
    }
   ],
   "source": [
    "print(' 4.2', end=\"\\n\"*2)\n",
    "dfr=df.set_axis(['gold', 'silver', 'platinum', 'palladium','date'], axis = 'columns', copy=False)\n",
    "print(dfr, end=\"\\n\"*2)"
   ]
  },
  {
   "cell_type": "code",
   "execution_count": 19,
   "id": "0caa47d1",
   "metadata": {},
   "outputs": [
    {
     "name": "stdout",
     "output_type": "stream",
     "text": [
      " 4.3\n",
      "\n",
      "blank gold: 4\n",
      "blank silver: 7\n",
      "blank platinum: 4\n",
      "blank palladium: 8\n",
      "blank date: 0\n",
      "\n",
      "\n",
      "\n",
      "\n",
      "        gold silver platinum palladium             date\n",
      "0     4784,4   58,7  2183,31   5677,62  31.10.2020 0:00\n",
      "1    4759,17  60,67  2195,94   5662,27  30.10.2020 0:00\n",
      "2    4729,52  60,93  2179,19   5812,01  29.10.2020 0:00\n",
      "3    4667,69  59,68  2145,92   5813,41  28.10.2020 0:00\n",
      "4    4673,64  60,85  2189,85         0  27.10.2020 0:00\n",
      "..       ...    ...      ...       ...              ...\n",
      "123  4047,21      0  1800,29   4298,85  09.05.2020 0:00\n",
      "124   4023,9   35,7  1794,33   4324,99  08.05.2020 0:00\n",
      "125  4040,41  35,85  1795,58   4221,39  07.05.2020 0:00\n",
      "126  4014,11  35,86  1819,12   4655,36  01.05.2020 0:00\n",
      "127   4041,8  35,93  1847,95   4638,83  30.04.2020 0:00\n",
      "\n",
      "[128 rows x 5 columns]\n",
      "blank gold: 0\n",
      "blank silver: 0\n",
      "blank platinum: 0\n",
      "blank palladium: 0\n",
      "blank date: 0\n"
     ]
    }
   ],
   "source": [
    "print(' 4.3', end=\"\\n\"*2)\n",
    "print('blank gold:', dfr['gold'].isnull().sum())\n",
    "print('blank silver:', dfr['silver'].isnull().sum())\n",
    "print('blank platinum:', dfr['platinum'].isnull().sum())\n",
    "print('blank palladium:', dfr['palladium'].isnull().sum())\n",
    "print('blank date:', dfr['date'].isnull().sum())\n",
    "print('\\n'*3)\n",
    "\n",
    "df_new = dfr.fillna(0)\n",
    "# Проверим есть пустые колонки теперь\n",
    "print(df_new)\n",
    "print('blank gold:', df_new['gold'].isnull().sum())\n",
    "print('blank silver:', df_new['silver'].isnull().sum())\n",
    "print('blank platinum:', df_new['platinum'].isnull().sum())\n",
    "print('blank palladium:', df_new['palladium'].isnull().sum())\n",
    "print('blank date:', df_new['date'].isnull().sum())"
   ]
  },
  {
   "cell_type": "code",
   "execution_count": 21,
   "id": "16473fb5",
   "metadata": {},
   "outputs": [
    {
     "name": "stdout",
     "output_type": "stream",
     "text": [
      " 4.4\n",
      "\n",
      "        gold  silver  platinum  palladium             date\n",
      "0    4784.40   58.70   2183.31    5677.62  31.10.2020 0:00\n",
      "1    4759.17   60.67   2195.94    5662.27  30.10.2020 0:00\n",
      "2    4729.52   60.93   2179.19    5812.01  29.10.2020 0:00\n",
      "3    4667.69   59.68   2145.92    5813.41  28.10.2020 0:00\n",
      "4    4673.64   60.85   2189.85        NaN  27.10.2020 0:00\n",
      "..       ...     ...       ...        ...              ...\n",
      "123  4047.21     NaN   1800.29    4298.85  09.05.2020 0:00\n",
      "124  4023.90   35.70   1794.33    4324.99  08.05.2020 0:00\n",
      "125  4040.41   35.85   1795.58    4221.39  07.05.2020 0:00\n",
      "126  4014.11   35.86   1819.12    4655.36  01.05.2020 0:00\n",
      "127  4041.80   35.93   1847.95    4638.83  30.04.2020 0:00\n",
      "\n",
      "[128 rows x 5 columns]\n"
     ]
    }
   ],
   "source": [
    "print(' 4.4', end=\"\\n\"*2)\n",
    "dfr['gold'] = dfr['gold'].apply(lambda x: float(str(x).replace(',','.')))\n",
    "dfr['silver'] = dfr['silver'].apply(lambda x: float(str(x).replace(',','.')))\n",
    "dfr['platinum'] = dfr['platinum'].apply(lambda x: float(str(x).replace(',','.')))\n",
    "dfr['palladium'] = dfr['palladium'].apply(lambda x: float(str(x).replace(',','.')))\n",
    "\n",
    "print(dfr)"
   ]
  },
  {
   "cell_type": "code",
   "execution_count": 45,
   "id": "0186d68a",
   "metadata": {},
   "outputs": [
    {
     "name": "stdout",
     "output_type": "stream",
     "text": [
      " 4.5\n",
      "\n",
      "        gold  silver  platinum  palladium  gold_usd  silver_usd  platinum_usd  \\\n",
      "0    4784.40   58.70   2183.31    5677.62     65.17        0.80         29.74   \n",
      "1    4759.17   60.67   2195.94    5662.27     64.83        0.83         29.91   \n",
      "2    4729.52   60.93   2179.19    5812.01     64.43        0.83         29.69   \n",
      "3    4667.69   59.68   2145.92    5813.41     63.58        0.81         29.23   \n",
      "6    4750.35   61.74   2210.56    5957.61     64.71        0.84         30.11   \n",
      "..       ...     ...       ...        ...       ...         ...           ...   \n",
      "122  4021.69   36.56   1810.82    4403.10     54.78        0.50         24.67   \n",
      "124  4023.90   35.70   1794.33    4324.99     54.81        0.49         24.44   \n",
      "125  4040.41   35.85   1795.58    4221.39     55.04        0.49         24.46   \n",
      "126  4014.11   35.86   1819.12    4655.36     54.68        0.49         24.78   \n",
      "127  4041.80   35.93   1847.95    4638.83     55.06        0.49         25.17   \n",
      "\n",
      "     palladium_usd  \n",
      "0            77.34  \n",
      "1            77.13  \n",
      "2            79.17  \n",
      "3            79.19  \n",
      "6            81.16  \n",
      "..             ...  \n",
      "122          59.98  \n",
      "124          58.92  \n",
      "125          57.50  \n",
      "126          63.42  \n",
      "127          63.19  \n",
      "\n",
      "[107 rows x 8 columns]\n"
     ]
    },
    {
     "name": "stderr",
     "output_type": "stream",
     "text": [
      "C:\\Users\\Давкул\\AppData\\Local\\Temp\\ipykernel_3340\\3684819506.py:3: FutureWarning: DataFrame.set_axis 'inplace' keyword is deprecated and will be removed in a future version. Use `obj = obj.set_axis(..., copy=False)` instead\n",
      "  df.set_axis(['gold', 'silver', 'platinum', 'palladium','date'], axis = 'columns', inplace = True)\n"
     ]
    }
   ],
   "source": [
    "print(' 4.5', end=\"\\n\"*2)\n",
    "df = pd.read_csv('https://elteha.ru/data_science/precious_metal.csv', sep = ';')\n",
    "df.set_axis(['gold', 'silver', 'platinum', 'palladium','date'], axis = 'columns', inplace = True)\n",
    "df.dropna(subset = ['gold', 'silver', 'platinum', 'palladium'], inplace = True) #Удаляем ячейки пропущенных значений\n",
    "df.drop([\"date\"], axis = 1, inplace=True) # Удаляем колонку date\n",
    "\n",
    "df['gold'] = df['gold'].apply(lambda x: float(str(x).replace(',','.')))\n",
    "df['silver'] = df['silver'].apply(lambda x: float(str(x).replace(',','.')))\n",
    "df['platinum'] = df['platinum'].apply(lambda x: float(str(x).replace(',','.')))\n",
    "df['palladium'] = df['palladium'].apply(lambda x: float(str(x).replace(',','.')))\n",
    "# Добавляем новые колонки\n",
    "value_usd = float(73.41)\n",
    "df[\"gold_usd\"] = round(df['gold'] / value_usd, 2)\n",
    "df[\"silver_usd\"] = round(df['silver'] / value_usd, 2)\n",
    "df[\"platinum_usd\"] = round(df['platinum'] / value_usd, 2)\n",
    "df[\"palladium_usd\"] = round(df['palladium'] / value_usd, 2)\n",
    "df.to_csv(\"precious_metal_new.txt\")\n",
    "\n",
    "print(df)"
   ]
  },
  {
   "cell_type": "code",
   "execution_count": null,
   "id": "95ea6a7f",
   "metadata": {},
   "outputs": [],
   "source": []
  }
 ],
 "metadata": {
  "kernelspec": {
   "display_name": "Python 3 (ipykernel)",
   "language": "python",
   "name": "python3"
  },
  "language_info": {
   "codemirror_mode": {
    "name": "ipython",
    "version": 3
   },
   "file_extension": ".py",
   "mimetype": "text/x-python",
   "name": "python",
   "nbconvert_exporter": "python",
   "pygments_lexer": "ipython3",
   "version": "3.9.13"
  }
 },
 "nbformat": 4,
 "nbformat_minor": 5
}
