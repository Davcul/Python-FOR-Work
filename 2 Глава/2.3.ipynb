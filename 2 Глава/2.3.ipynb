{
 "cells": [
  {
   "cell_type": "code",
   "execution_count": 2,
   "id": "658f4981",
   "metadata": {},
   "outputs": [
    {
     "name": "stdout",
     "output_type": "stream",
     "text": [
      "3. Дата фреймы Pandas\n",
      " 3.1\n",
      "\n"
     ]
    }
   ],
   "source": [
    "print('3. Дата фреймы Pandas')\n",
    "print(' 3.1', end=\"\\n\"*2)"
   ]
  },
  {
   "cell_type": "code",
   "execution_count": 5,
   "id": "e7ab8b58",
   "metadata": {},
   "outputs": [
    {
     "name": "stdout",
     "output_type": "stream",
     "text": [
      "    heights  weights  ages\n",
      "0       188       86    58\n",
      "1       172       71    61\n",
      "2       187       89    54\n",
      "3       161       64    54\n",
      "4       183       83    58\n",
      "5       172       72    57\n",
      "6       185       86    63\n",
      "7       163       68    54\n",
      "8       173       73    37\n",
      "9       183       84    51\n",
      "10      174       73    34\n",
      "11      174       72    26\n",
      "12      175       75    50\n",
      "13      178       78    48\n",
      "14      183       85    45\n",
      "15      195       93    52\n",
      "16      178       78    56\n",
      "17      173       70    40\n",
      "18      174       74    54\n",
      "19      183       80    28\n",
      "20      174       83    52\n",
      "21      181       82    47\n",
      "22      162       68    55\n",
      "23      180       80    55\n",
      "24      170       73    54\n",
      "25      175       78    42\n",
      "26      182       82    51\n",
      "27      180       81    50\n",
      "28      183       83    55\n",
      "29      178       79    51\n",
      "30      182       82    54\n",
      "31      188       86    32\n",
      "32      175       76    21\n",
      "33      179       77    62\n",
      "34      184       80    43\n",
      "35      193      103    55\n",
      "36      182       82    50\n",
      "37      183       83    61\n",
      "38      175       77    53\n",
      "39      185       89    22\n"
     ]
    }
   ],
   "source": [
    "import pandas as pd\n",
    "heights = [188, 172, 187, 161, 183, 172, 185, 163, 173, 183, 174, 174, 175,\n",
    "178, 183, 195, 178, 173, 174, 183, 174, 181, 162, 180, 170, 175, 182, 180, 183,\n",
    "178, 182, 188, 175, 179, 184, 193, 182, 183, 175, 185, 182, 183, 150, 185, 199]\n",
    "\n",
    "weights = [86, 71, 89, 64, 83, 72, 86, 68, 73, 84, 73, 72, 75, 78, 85, 93, 78,\n",
    "70, 74, 80, 83, 82, 68, 80, 73, 78, 82, 81, 83, 79, 82, 86, 76, 77, 80, 103,\n",
    "82, 83, 77, 89, 80, 85, 82, 85, 110]\n",
    "\n",
    "ages = [58, 61, 54, 54, 58, 57, 63, 54, 37, 51, 34, 26, 50, 48, 45, 52, 56,\n",
    "40, 54, 28, 52, 47, 55, 55, 54, 42, 51, 50, 55, 51, 54, 32, 21, 62, 43, 55,\n",
    "50, 61, 53, 22, 64, 45, 54, 47, 38] \n",
    "\n",
    "data_dict = {'heights':(heights), 'weights': (weights) , 'ages': (ages)} #создаём словарь с индксами=названием листов\n",
    "df = pd.DataFrame(data_dict) # собственно - создание датафрейма из, в данном случае, словаря.\n",
    "new_one_df = df.head(40) # первые 40 строк данного дф (помни индексация от 0)\n",
    "print(new_one_df)"
   ]
  },
  {
   "cell_type": "code",
   "execution_count": 12,
   "id": "9c50f931",
   "metadata": {},
   "outputs": [
    {
     "name": "stdout",
     "output_type": "stream",
     "text": [
      " 3.2\n",
      "\n",
      "    heights  weights  ages\n",
      "0       188       86    58\n",
      "2       187       89    54\n",
      "4       183       83    58\n",
      "6       185       86    63\n",
      "9       183       84    51\n",
      "14      183       85    45\n",
      "15      195       93    52\n",
      "19      183       80    28\n",
      "21      181       82    47\n",
      "26      182       82    51\n",
      "28      183       83    55\n",
      "30      182       82    54\n",
      "31      188       86    32\n",
      "34      184       80    43\n",
      "35      193      103    55\n",
      "36      182       82    50\n",
      "37      183       83    61\n",
      "39      185       89    22\n",
      "Count rows 18\n"
     ]
    }
   ],
   "source": [
    "print(' 3.2', end=\"\\n\"*2)\n",
    "\n",
    "funс = new_one_df[new_one_df[\"heights\"] > 180] #NB сортировка элементов по 1 столбцу, с порогом отсечения, в данном случае >180\n",
    "print(funс)\n",
    "print(\"Count rows\", len(funс.index)) #кол-во строчек полученных таким образом, удобно что сохраняется в индексе старое значение"
   ]
  },
  {
   "cell_type": "code",
   "execution_count": 16,
   "id": "216e4c5e",
   "metadata": {},
   "outputs": [
    {
     "name": "stdout",
     "output_type": "stream",
     "text": [
      " 3.3\n",
      "\n",
      "    heights  weights  ages\n",
      "1       172       71    61\n",
      "3       161       64    54\n",
      "5       172       72    57\n",
      "7       163       68    54\n",
      "8       173       73    37\n",
      "10      174       73    34\n",
      "11      174       72    26\n",
      "12      175       75    50\n",
      "13      178       78    48\n",
      "16      178       78    56\n",
      "17      173       70    40\n",
      "18      174       74    54\n",
      "22      162       68    55\n",
      "24      170       73    54\n",
      "25      175       78    42\n",
      "29      178       79    51\n",
      "32      175       76    21\n",
      "33      179       77    62\n",
      "38      175       77    53\n",
      "\n",
      "Count rows 19\n",
      "\n"
     ]
    }
   ],
   "source": [
    "print(' 3.3', end=\"\\n\"*2)\n",
    "funс = new_one_df[new_one_df.weights < 80] # Параметр weights определяет относительные веса.\n",
    "print(funс, end=\"\\n\"*2)\n",
    "print(\"Count rows\", len(funс.index), end=\"\\n\"*2)"
   ]
  },
  {
   "cell_type": "code",
   "execution_count": 23,
   "id": "24e7df81",
   "metadata": {},
   "outputs": [
    {
     "name": "stdout",
     "output_type": "stream",
     "text": [
      " 3.4\n",
      "\n",
      "    heights  weights  ages\n",
      "8       173       73    37\n",
      "10      174       73    34\n",
      "13      178       78    48\n",
      "14      183       85    45\n",
      "17      173       70    40\n",
      "21      181       82    47\n",
      "25      175       78    42\n",
      "31      188       86    32\n",
      "34      184       80    43\n",
      "\n",
      "Count rows 9\n",
      "\n"
     ]
    }
   ],
   "source": [
    "print(' 3.4', end=\"\\n\"*2)\n",
    "funс = new_df [((new_one_df.ages < 50) & (new_one_df.ages > 30))] # мультифакторый анализ, когда нужна сортировка и отбор по нескольким параметрам \n",
    "\n",
    "\n",
    "print(funс, end=\"\\n\"*2)\n",
    "print(\"Count rows\", len(funс.index), end=\"\\n\"*2)"
   ]
  },
  {
   "cell_type": "code",
   "execution_count": 26,
   "id": "6ef7096d",
   "metadata": {},
   "outputs": [
    {
     "name": "stdout",
     "output_type": "stream",
     "text": [
      " 3.5\n",
      "\n",
      "    heights  weights  ages\n",
      "0       188       86    58\n",
      "2       187       89    54\n",
      "4       183       83    58\n",
      "6       185       86    63\n",
      "9       183       84    51\n",
      "14      183       85    45\n",
      "15      195       93    52\n",
      "20      174       83    52\n",
      "21      181       82    47\n",
      "26      182       82    51\n",
      "27      180       81    50\n",
      "28      183       83    55\n",
      "30      182       82    54\n",
      "31      188       86    32\n",
      "35      193      103    55\n",
      "36      182       82    50\n",
      "37      183       83    61\n",
      "39      185       89    22\n",
      "\n",
      "Count rows 18\n",
      "\n",
      "       heights  weights    ages\n",
      "count   18.000   18.000  18.000\n",
      "mean   184.278   85.667  50.556\n",
      "std      4.763    5.336   9.841\n",
      "min    174.000   81.000  22.000\n",
      "25%    182.000   82.250  50.000\n",
      "50%    183.000   83.500  52.000\n",
      "75%    186.500   86.000  55.000\n",
      "max    195.000  103.000  63.000\n"
     ]
    }
   ],
   "source": [
    "print(' 3.5', end=\"\\n\"*2)\n",
    "new_df = df.head(40)\n",
    "funс = new_df [((new_df.heights > 170) & (new_df.weights > 80)) ]\n",
    "\n",
    "print(funс, end=\"\\n\"*2)\n",
    "print(\"Count rows\", len(funс.index), end=\"\\n\"*2)\n",
    "print(round(funс.describe(),3))"
   ]
  },
  {
   "cell_type": "code",
   "execution_count": null,
   "id": "179aa54a",
   "metadata": {},
   "outputs": [],
   "source": []
  }
 ],
 "metadata": {
  "kernelspec": {
   "display_name": "Python 3 (ipykernel)",
   "language": "python",
   "name": "python3"
  },
  "language_info": {
   "codemirror_mode": {
    "name": "ipython",
    "version": 3
   },
   "file_extension": ".py",
   "mimetype": "text/x-python",
   "name": "python",
   "nbconvert_exporter": "python",
   "pygments_lexer": "ipython3",
   "version": "3.9.13"
  }
 },
 "nbformat": 4,
 "nbformat_minor": 5
}
