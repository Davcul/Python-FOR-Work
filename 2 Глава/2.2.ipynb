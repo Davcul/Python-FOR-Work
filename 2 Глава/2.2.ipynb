{
 "cells": [
  {
   "cell_type": "code",
   "execution_count": 23,
   "id": "4d583b5d",
   "metadata": {},
   "outputs": [
    {
     "name": "stdout",
     "output_type": "stream",
     "text": [
      "2. Использование модуля Pandas\n",
      "\n",
      "2.1\n",
      "\n"
     ]
    }
   ],
   "source": [
    "print('2. Использование модуля Pandas', end=\"\\n\"*2)\n",
    "print('2.1', end=\"\\n\"*2)"
   ]
  },
  {
   "cell_type": "code",
   "execution_count": 24,
   "id": "980b7131",
   "metadata": {},
   "outputs": [
    {
     "name": "stdout",
     "output_type": "stream",
     "text": [
      "<class 'pandas.core.frame.DataFrame'>\n",
      "RangeIndex: 45 entries, 0 to 44\n",
      "Data columns (total 3 columns):\n",
      " #   Column   Non-Null Count  Dtype\n",
      "---  ------   --------------  -----\n",
      " 0   heights  45 non-null     int64\n",
      " 1   weights  45 non-null     int64\n",
      " 2   ages     45 non-null     int64\n",
      "dtypes: int64(3)\n",
      "memory usage: 1.2 KB\n",
      "None \n",
      "\n",
      "\n",
      "\n",
      "\n",
      "Первые 3\n",
      "   heights  weights  ages\n",
      "0      188       86    58\n",
      "1      172       71    61\n",
      "2      187       89    54\n",
      "Последние 3\n",
      "    heights  weights  ages\n",
      "42      150       82    54\n",
      "43      185       85    47\n",
      "44      199      110    38\n"
     ]
    }
   ],
   "source": [
    "import pandas as pd\n",
    "heights = [188, 172, 187, 161, 183, 172, 185, 163, 173, 183, 174, 174, 175,\n",
    "178, 183, 195, 178, 173, 174, 183, 174, 181, 162, 180, 170, 175, 182, 180, 183,\n",
    "178, 182, 188, 175, 179, 184, 193, 182, 183, 175, 185, 182, 183, 150, 185, 199]\n",
    "\n",
    "weights = [86, 71, 89, 64, 83, 72, 86, 68, 73, 84, 73, 72, 75, 78, 85, 93, 78,\n",
    "70, 74, 80, 83, 82, 68, 80, 73, 78, 82, 81, 83, 79, 82, 86, 76, 77, 80, 103,\n",
    "82, 83, 77, 89, 80, 85, 82, 85, 110]\n",
    "\n",
    "ages = [58, 61, 54, 54, 58, 57, 63, 54, 37, 51, 34, 26, 50, 48, 45, 52, 56,\n",
    "40, 54, 28, 52, 47, 55, 55, 54, 42, 51, 50, 55, 51, 54, 32, 21, 62, 43, 55,\n",
    "50, 61, 53, 22, 64, 45, 54, 47, 38] \n",
    "\n",
    "data_dict = {'heights':(heights), 'weights': (weights) , 'ages': (ages)}\n",
    "df = pd.DataFrame(data=data_dict)\n",
    "\n",
    "print(df.info(),\"\\n\"*4)\n",
    "print(\"Первые 3\")\n",
    "print(df.head(3))\n",
    "print(\"Последние 3\")\n",
    "print(df.tail(3))"
   ]
  },
  {
   "cell_type": "code",
   "execution_count": 25,
   "id": "d81f075f",
   "metadata": {},
   "outputs": [
    {
     "name": "stdout",
     "output_type": "stream",
     "text": [
      "2.2\n",
      "\n",
      "heights    199\n",
      "weights    110\n",
      "ages        64\n",
      "dtype: int64 \n",
      "\n",
      "\n",
      "heights    150\n",
      "weights     64\n",
      "ages        21\n",
      "dtype: int64 \n",
      "\n",
      "\n"
     ]
    }
   ],
   "source": [
    "print('2.2', end=\"\\n\"*2)\n",
    "print(df.max(), \"\\n\"*2) #находит макс знач для каждой столбца/(зависит от индекса), а так же выводит тип даты лежащий в ячеке.\n",
    "print(df.min(), \"\\n\"*2) #находит мин знач для каждой столбца/(зависит от индекса), а так же выводит тип даты лежащий в ячеке."
   ]
  },
  {
   "cell_type": "code",
   "execution_count": 26,
   "id": "b5b9bf3c",
   "metadata": {},
   "outputs": [
    {
     "name": "stdout",
     "output_type": "stream",
     "text": [
      "heights методом mean 178.756 \n",
      "\n",
      "\n",
      "weights методом mean 80.444 \n",
      "\n",
      "\n",
      "ages методом mean 48.733 \n",
      "\n",
      "\n"
     ]
    }
   ],
   "source": [
    "print('heights методом mean', round (df['heights'].mean(),3), \"\\n\"*2) #находим среднее значение для каждого столбика + округляем до 3 знаков после запятой\n",
    "print('weights методом mean', round (df['weights'].mean(),3), \"\\n\"*2)\n",
    "print('ages методом mean', round (df['ages'].mean(),3), \"\\n\"*2)"
   ]
  },
  {
   "cell_type": "code",
   "execution_count": 27,
   "id": "76ce0e88",
   "metadata": {},
   "outputs": [
    {
     "name": "stdout",
     "output_type": "stream",
     "text": [
      "heights ручная проверка ( 178.756 ) \n",
      "\n",
      "\n",
      "weights ручная проверка ( 80.444 ) \n",
      "\n",
      "\n",
      "ages ручная проверка ( 48.733 ) \n",
      "\n",
      "\n"
     ]
    }
   ],
   "source": [
    "print('heights ручная проверка (', round (df['heights'].sum() / len(df['heights']), 3), \")\", \"\\n\"*2)\n",
    "print('weights ручная проверка (', round(df['weights'].sum() / len(df['weights']), 3), \")\", \"\\n\"*2)\n",
    "print('ages ручная проверка (', round(df['ages'].sum() / len(df['ages']), 3),\")\", \"\\n\"*2)"
   ]
  },
  {
   "cell_type": "code",
   "execution_count": 28,
   "id": "08ae1c26",
   "metadata": {},
   "outputs": [
    {
     "name": "stdout",
     "output_type": "stream",
     "text": [
      "median( heights    180.0\n",
      "weights     80.0\n",
      "ages        52.0\n",
      "dtype: float64 ) \n",
      "\n",
      "\n"
     ]
    }
   ],
   "source": [
    "print('median(',df.median(), \")\", \"\\n\"*2) #найдём медиану"
   ]
  },
  {
   "cell_type": "code",
   "execution_count": 29,
   "id": "af2bd19a",
   "metadata": {},
   "outputs": [
    {
     "name": "stdout",
     "output_type": "stream",
     "text": [
      "Стандартное отклонение \n",
      "\n",
      " heights     8.906\n",
      "weights     8.414\n",
      "ages       10.646\n",
      "dtype: float64\n"
     ]
    }
   ],
   "source": [
    "print('Стандартное отклонение',\"\\n\"*2, round(df.std(), 3)) #среднеквардратичное отклонение"
   ]
  },
  {
   "cell_type": "code",
   "execution_count": 30,
   "id": "e124d3ae",
   "metadata": {},
   "outputs": [
    {
     "name": "stdout",
     "output_type": "stream",
     "text": [
      "2.3\n",
      "\n",
      "          heights     weights       ages\n",
      "count   45.000000   45.000000  45.000000\n",
      "mean   178.755556   80.444444  48.733333\n",
      "std      8.906473    8.414154  10.645955\n",
      "min    150.000000   64.000000  21.000000\n",
      "25%    174.000000   75.000000  45.000000\n",
      "50%    180.000000   80.000000  52.000000\n",
      "75%    183.000000   84.000000  55.000000\n",
      "max    199.000000  110.000000  64.000000\n"
     ]
    }
   ],
   "source": [
    "print('2.3', end=\"\\n\"*2)\n",
    "print(df.describe()) #NB помни об этой фунции, позволяет найти всё и сразу по кол-ву, среднему и тд и тп. (Уточнить что за кварталы)"
   ]
  }
 ],
 "metadata": {
  "kernelspec": {
   "display_name": "Python 3 (ipykernel)",
   "language": "python",
   "name": "python3"
  },
  "language_info": {
   "codemirror_mode": {
    "name": "ipython",
    "version": 3
   },
   "file_extension": ".py",
   "mimetype": "text/x-python",
   "name": "python",
   "nbconvert_exporter": "python",
   "pygments_lexer": "ipython3",
   "version": "3.9.13"
  }
 },
 "nbformat": 4,
 "nbformat_minor": 5
}
