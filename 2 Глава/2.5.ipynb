{
 "cells": [
  {
   "cell_type": "code",
   "execution_count": 1,
   "id": "1b47e969",
   "metadata": {},
   "outputs": [
    {
     "name": "stdout",
     "output_type": "stream",
     "text": [
      "5. Дата фреймы Pandas\n",
      " 5.1\n",
      "\n"
     ]
    }
   ],
   "source": [
    "print('5. Дата фреймы Pandas')\n",
    "print(' 5.1', end=\"\\n\"*2)"
   ]
  },
  {
   "cell_type": "code",
   "execution_count": 2,
   "id": "74b9f2d3",
   "metadata": {},
   "outputs": [],
   "source": [
    "import pandas as pd\n",
    "import numpy as np"
   ]
  },
  {
   "cell_type": "code",
   "execution_count": 3,
   "id": "56818754",
   "metadata": {},
   "outputs": [
    {
     "name": "stderr",
     "output_type": "stream",
     "text": [
      "C:\\Users\\Давкул\\AppData\\Local\\Temp\\ipykernel_3908\\450529295.py:2: FutureWarning: DataFrame.set_axis 'inplace' keyword is deprecated and will be removed in a future version. Use `obj = obj.set_axis(..., copy=False)` instead\n",
      "  df.set_axis(['gold', 'silver', 'platinum', 'palladium','date'], axis = 'columns', inplace = True)\n"
     ]
    },
    {
     "data": {
      "text/html": [
       "<div>\n",
       "<style scoped>\n",
       "    .dataframe tbody tr th:only-of-type {\n",
       "        vertical-align: middle;\n",
       "    }\n",
       "\n",
       "    .dataframe tbody tr th {\n",
       "        vertical-align: top;\n",
       "    }\n",
       "\n",
       "    .dataframe thead th {\n",
       "        text-align: right;\n",
       "    }\n",
       "</style>\n",
       "<table border=\"1\" class=\"dataframe\">\n",
       "  <thead>\n",
       "    <tr style=\"text-align: right;\">\n",
       "      <th></th>\n",
       "      <th>gold</th>\n",
       "      <th>silver</th>\n",
       "      <th>platinum</th>\n",
       "      <th>palladium</th>\n",
       "      <th>date</th>\n",
       "    </tr>\n",
       "  </thead>\n",
       "  <tbody>\n",
       "    <tr>\n",
       "      <th>0</th>\n",
       "      <td>4784,4</td>\n",
       "      <td>58,7</td>\n",
       "      <td>2183,31</td>\n",
       "      <td>5677,62</td>\n",
       "      <td>31.10.2020 0:00</td>\n",
       "    </tr>\n",
       "    <tr>\n",
       "      <th>1</th>\n",
       "      <td>4759,17</td>\n",
       "      <td>60,67</td>\n",
       "      <td>2195,94</td>\n",
       "      <td>5662,27</td>\n",
       "      <td>30.10.2020 0:00</td>\n",
       "    </tr>\n",
       "    <tr>\n",
       "      <th>2</th>\n",
       "      <td>4729,52</td>\n",
       "      <td>60,93</td>\n",
       "      <td>2179,19</td>\n",
       "      <td>5812,01</td>\n",
       "      <td>29.10.2020 0:00</td>\n",
       "    </tr>\n",
       "    <tr>\n",
       "      <th>3</th>\n",
       "      <td>4667,69</td>\n",
       "      <td>59,68</td>\n",
       "      <td>2145,92</td>\n",
       "      <td>5813,41</td>\n",
       "      <td>28.10.2020 0:00</td>\n",
       "    </tr>\n",
       "    <tr>\n",
       "      <th>4</th>\n",
       "      <td>4673,64</td>\n",
       "      <td>60,85</td>\n",
       "      <td>2189,85</td>\n",
       "      <td>NaN</td>\n",
       "      <td>27.10.2020 0:00</td>\n",
       "    </tr>\n",
       "  </tbody>\n",
       "</table>\n",
       "</div>"
      ],
      "text/plain": [
       "      gold silver platinum palladium             date\n",
       "0   4784,4   58,7  2183,31   5677,62  31.10.2020 0:00\n",
       "1  4759,17  60,67  2195,94   5662,27  30.10.2020 0:00\n",
       "2  4729,52  60,93  2179,19   5812,01  29.10.2020 0:00\n",
       "3  4667,69  59,68  2145,92   5813,41  28.10.2020 0:00\n",
       "4  4673,64  60,85  2189,85       NaN  27.10.2020 0:00"
      ]
     },
     "execution_count": 3,
     "metadata": {},
     "output_type": "execute_result"
    }
   ],
   "source": [
    "df = pd.read_csv('https://elteha.ru/data_science/precious_metal.csv', sep = ';')\n",
    "df.set_axis(['gold', 'silver', 'platinum', 'palladium','date'], axis = 'columns', inplace = True)\n",
    "df.head()"
   ]
  },
  {
   "cell_type": "code",
   "execution_count": 4,
   "id": "c810bacb",
   "metadata": {},
   "outputs": [
    {
     "name": "stdout",
     "output_type": "stream",
     "text": [
      "<class 'pandas.core.frame.DataFrame'>\n",
      "RangeIndex: 128 entries, 0 to 127\n",
      "Data columns (total 5 columns):\n",
      " #   Column     Non-Null Count  Dtype \n",
      "---  ------     --------------  ----- \n",
      " 0   gold       124 non-null    object\n",
      " 1   silver     121 non-null    object\n",
      " 2   platinum   124 non-null    object\n",
      " 3   palladium  120 non-null    object\n",
      " 4   date       128 non-null    object\n",
      "dtypes: object(5)\n",
      "memory usage: 5.1+ KB\n",
      "None\n"
     ]
    }
   ],
   "source": [
    "print(df.info())"
   ]
  },
  {
   "cell_type": "code",
   "execution_count": 5,
   "id": "9a2d33b5",
   "metadata": {},
   "outputs": [
    {
     "name": "stdout",
     "output_type": "stream",
     "text": [
      " 5.2\n",
      "\n",
      "<class 'pandas.core.frame.DataFrame'>\n",
      "RangeIndex: 128 entries, 0 to 127\n",
      "Data columns (total 5 columns):\n",
      " #   Column     Non-Null Count  Dtype         \n",
      "---  ------     --------------  -----         \n",
      " 0   gold       124 non-null    object        \n",
      " 1   silver     121 non-null    object        \n",
      " 2   platinum   124 non-null    object        \n",
      " 3   palladium  120 non-null    object        \n",
      " 4   date       128 non-null    datetime64[ns]\n",
      "dtypes: datetime64[ns](1), object(4)\n",
      "memory usage: 5.1+ KB\n",
      "None\n"
     ]
    }
   ],
   "source": [
    "print(' 5.2', end=\"\\n\"*2)\n",
    "df['date'] = pd.to_datetime(df.date, format = '%d.%m.%Y %H:%M')\n",
    "\n",
    "print(df.info())"
   ]
  },
  {
   "cell_type": "code",
   "execution_count": 6,
   "id": "1175f996",
   "metadata": {},
   "outputs": [
    {
     "name": "stdout",
     "output_type": "stream",
     "text": [
      " 5.2\n",
      "\n",
      "        gold silver platinum palladium       date    month\n",
      "0     4784,4   58,7  2183,31   5677,62 2020-10-31  Октябрь\n",
      "1    4759,17  60,67  2195,94   5662,27 2020-10-30  Октябрь\n",
      "2    4729,52  60,93  2179,19   5812,01 2020-10-29  Октябрь\n",
      "3    4667,69  59,68  2145,92   5813,41 2020-10-28  Октябрь\n",
      "4    4673,64  60,85  2189,85       NaN 2020-10-27  Октябрь\n",
      "..       ...    ...      ...       ...        ...      ...\n",
      "123  4047,21    NaN  1800,29   4298,85 2020-05-09      Май\n",
      "124   4023,9   35,7  1794,33   4324,99 2020-05-08      Май\n",
      "125  4040,41  35,85  1795,58   4221,39 2020-05-07      Май\n",
      "126  4014,11  35,86  1819,12   4655,36 2020-05-01      Май\n",
      "127   4041,8  35,93  1847,95   4638,83 2020-04-30   Апрель\n",
      "\n",
      "[128 rows x 6 columns]\n"
     ]
    }
   ],
   "source": [
    "print(' 5.3', end=\"\\n\"*2)\n",
    "months = {1:'Январь', 2:'Февраль', 3:'Март', 4:'Апрель', 5:'Май', 6:'Июнь', 7:'Июль', 8:'Август', 9:'Сентябрь', 10:'Октябрь', 11:'Ноябрь', 12:'Декабрь'}\n",
    "\n",
    "df['date'] = pd.to_datetime(df['date'])\n",
    "df['month'] = pd.DatetimeIndex(df['date']).month\n",
    "\n",
    "#Использование собственной функции\n",
    "df['month'] = df['month'].apply(lambda i: months[i])\n",
    "\n",
    "\n",
    "\n",
    "print(df)"
   ]
  },
  {
   "cell_type": "code",
   "execution_count": null,
   "id": "1840d909",
   "metadata": {},
   "outputs": [],
   "source": []
  }
 ],
 "metadata": {
  "kernelspec": {
   "display_name": "Python 3 (ipykernel)",
   "language": "python",
   "name": "python3"
  },
  "language_info": {
   "codemirror_mode": {
    "name": "ipython",
    "version": 3
   },
   "file_extension": ".py",
   "mimetype": "text/x-python",
   "name": "python",
   "nbconvert_exporter": "python",
   "pygments_lexer": "ipython3",
   "version": "3.9.13"
  }
 },
 "nbformat": 4,
 "nbformat_minor": 5
}
